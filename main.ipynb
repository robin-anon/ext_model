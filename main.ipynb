{
 "cells": [
  {
   "cell_type": "code",
   "execution_count": 1,
   "metadata": {},
   "outputs": [],
   "source": [
    "import numpy as np\n",
    "import pandas as pd\n",
    "import scipy.stats\n",
    "import scipy.optimize\n",
    "from customlibs import core"
   ]
  },
  {
   "cell_type": "code",
   "execution_count": 2,
   "metadata": {},
   "outputs": [],
   "source": [
    "def trial(n_coef, n_init, n_ent):\n",
    "    result = []\n",
    "    for i in range(n_coef):\n",
    "        coef_array = np.random.rand(2, n_ent)\n",
    "        coef_array[1] = coef_array[1] / (n_ent/2)\n",
    "        ent_array = np.vstack((coef_array, np.zeros(n_ent)))\n",
    "        opt_util = core.calc_util(np.vstack((coef_array, core.opt_sim(ent_array))))\n",
    "        for j in range(n_init):\n",
    "            ent_array = np.vstack((coef_array, np.random.randint(2, size=n_ent)))\n",
    "            rat_util = core.calc_util(np.vstack((coef_array, core.rat_sim(ent_array))))\n",
    "            alt_util = core.calc_util(np.vstack((coef_array, core.alt_sim(ent_array))))\n",
    "            result.append([rat_util, alt_util, opt_util])\n",
    "    return pd.DataFrame(result, columns=\"rat alt opt\".split())"
   ]
  },
  {
   "cell_type": "code",
   "execution_count": 3,
   "metadata": {},
   "outputs": [
    {
     "name": "stderr",
     "output_type": "stream",
     "text": [
      " Temperature        Energy    Accept   Improve     Elapsed   Remaining\n",
      "     0.00087        -18.80     0.00%     0.00%     0:00:11    -1:59:57 Temperature        Energy    Accept   Improve     Elapsed   Remaining\n",
      "     0.00087        -18.80     0.00%     0.00%     0:02:49     0:00:00 Temperature        Energy    Accept   Improve     Elapsed   Remaining\n",
      "     0.00220        -18.71     0.00%     0.00%     0:00:09    -1:59:58 Temperature        Energy    Accept   Improve     Elapsed   Remaining\n",
      "     0.00220        -18.71     0.00%     0.00%     0:02:59     0:00:00 Temperature        Energy    Accept   Improve     Elapsed   Remaining\n",
      "     0.00390        -19.82     0.00%     0.00%     0:00:09    -1:59:59 Temperature        Energy    Accept   Improve     Elapsed   Remaining\n",
      "     0.00390        -19.82     0.00%     0.00%     0:02:51     0:00:00 Temperature        Energy    Accept   Improve     Elapsed   Remaining\n",
      "     0.00087        -18.32     0.00%     0.00%     0:00:10    -1:59:58 Temperature        Energy    Accept   Improve     Elapsed   Remaining\n",
      "     0.00087        -18.32     0.02%     0.01%     0:03:09     0:00:00 Temperature        Energy    Accept   Improve     Elapsed   Remaining\n",
      "     0.00150        -21.81     0.00%     0.00%     0:00:09    -1:59:59 Temperature        Energy    Accept   Improve     Elapsed   Remaining\n",
      "     0.00150        -21.81     0.03%     0.02%     0:03:07     0:00:00 Temperature        Energy    Accept   Improve     Elapsed   Remaining\n",
      "     0.00087        -18.48     0.00%     0.00%     0:00:11    -1:59:57 Temperature        Energy    Accept   Improve     Elapsed   Remaining\n",
      "     0.00087        -18.48     0.00%     0.00%     0:02:49     0:00:00 Temperature        Energy    Accept   Improve     Elapsed   Remaining\n",
      "     0.00073        -15.76     0.00%     0.00%     0:00:09    -1:59:58 Temperature        Energy    Accept   Improve     Elapsed   Remaining\n",
      "     0.00073        -15.76     0.00%     0.00%     0:02:55     0:00:00 Temperature        Energy    Accept   Improve     Elapsed   Remaining\n",
      "     0.00011        -18.99     0.00%     0.00%     0:00:11    -1:59:56 Temperature        Energy    Accept   Improve     Elapsed   Remaining\n",
      "     0.00011        -18.99     0.00%     0.00%     0:03:04     0:00:00 Temperature        Energy    Accept   Improve     Elapsed   Remaining\n",
      "     0.00220        -16.50     0.00%     0.00%     0:00:10    -1:59:58 Temperature        Energy    Accept   Improve     Elapsed   Remaining\n",
      "     0.00220        -16.50     0.00%     0.00%     0:03:00     0:00:00 Temperature        Energy    Accept   Improve     Elapsed   Remaining\n",
      "     0.00390        -19.77     0.00%     0.00%     0:00:09    -1:59:59 Temperature        Energy    Accept   Improve     Elapsed   Remaining\n",
      "     0.00390        -19.77     0.43%     0.22%     0:02:53     0:00:00"
     ]
    }
   ],
   "source": [
    "result = trial(10, 10, 100)"
   ]
  },
  {
   "cell_type": "code",
   "execution_count": 4,
   "metadata": {},
   "outputs": [],
   "source": [
    "result.to_csv(\"result.csv\")"
   ]
  },
  {
   "cell_type": "code",
   "execution_count": null,
   "metadata": {},
   "outputs": [],
   "source": []
  }
 ],
 "metadata": {
  "kernelspec": {
   "display_name": "Python 3",
   "language": "python",
   "name": "python3"
  },
  "language_info": {
   "codemirror_mode": {
    "name": "ipython",
    "version": 3
   },
   "file_extension": ".py",
   "mimetype": "text/x-python",
   "name": "python",
   "nbconvert_exporter": "python",
   "pygments_lexer": "ipython3",
   "version": "3.8.5"
  }
 },
 "nbformat": 4,
 "nbformat_minor": 4
}
