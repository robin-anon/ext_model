{
 "cells": [
  {
   "cell_type": "code",
   "execution_count": 1,
   "metadata": {},
   "outputs": [],
   "source": [
    "import numpy as np\n",
    "import pandas as pd\n",
    "import scipy.stats\n",
    "import scipy.optimize\n",
    "from customlibs import core"
   ]
  },
  {
   "cell_type": "code",
   "execution_count": 2,
   "metadata": {},
   "outputs": [],
   "source": [
    "def trial(n_coef, n_init, n_ent):\n",
    "    result = []\n",
    "    for i in range(n_coef):\n",
    "        coef_array = np.random.rand(2, n_ent)\n",
    "        ent_array = np.vstack((coef_array, np.zeros(n_ent)))\n",
    "        opt_util = core.calc_util(np.vstack((coef_array, core.opt_sim(ent_array))))\n",
    "        for j in range(n_init):\n",
    "            ent_array = np.vstack((coef_array, np.random.randint(2, size=n_ent)))\n",
    "            rat_util = core.calc_util(np.vstack((coef_array, core.rat_sim(ent_array))))\n",
    "            alt_util = core.calc_util(np.vstack((coef_array, core.alt_sim(ent_array))))\n",
    "            result.append([rat_util, alt_util, opt_util])\n",
    "    return pd.DataFrame(result, columns=\"rat alt opt\".split())"
   ]
  },
  {
   "cell_type": "code",
   "execution_count": 3,
   "metadata": {},
   "outputs": [
    {
     "name": "stderr",
     "output_type": "stream",
     "text": [
      " Temperature        Energy    Accept   Improve     Elapsed   Remaining\n",
      "     0.03000         -1.75     0.00%     0.00%     0:00:28    -1:59:47 Temperature        Energy    Accept   Improve     Elapsed   Remaining\n",
      "     0.03000         -1.75     0.72%     0.35%     0:02:49     0:00:00 Temperature        Energy    Accept   Improve     Elapsed   Remaining\n",
      "     0.03000         -2.76     0.00%     0.00%     0:00:28    -1:59:44 Temperature        Energy    Accept   Improve     Elapsed   Remaining\n",
      "     0.03000         -2.65     0.79%     0.41%     0:03:12     0:00:00 Temperature        Energy    Accept   Improve     Elapsed   Remaining\n",
      "     0.00130         -4.38     0.00%     0.00%     0:00:32    -1:59:43 Temperature        Energy    Accept   Improve     Elapsed   Remaining\n",
      "     0.00130         -4.38     0.00%     0.00%     0:02:50     0:00:00 Temperature        Energy    Accept   Improve     Elapsed   Remaining\n",
      "     0.00870         -2.75     0.00%     0.00%     0:00:29    -1:59:46 Temperature        Energy    Accept   Improve     Elapsed   Remaining\n",
      "     0.00870         -2.75     0.00%     0.00%     0:02:48     0:00:00 Temperature        Energy    Accept   Improve     Elapsed   Remaining\n",
      "     0.00870         -4.15     0.00%     0.00%     0:00:30    -1:59:45 Temperature        Energy    Accept   Improve     Elapsed   Remaining\n",
      "     0.00870         -4.15     0.06%     0.03%     0:02:53     0:00:00 Temperature        Energy    Accept   Improve     Elapsed   Remaining\n",
      "     0.00580         -4.76     0.00%     0.00%     0:00:29    -1:59:46 Temperature        Energy    Accept   Improve     Elapsed   Remaining\n",
      "     0.00580         -4.76     0.10%     0.05%     0:02:40     0:00:00 Temperature        Energy    Accept   Improve     Elapsed   Remaining\n",
      "     0.01300         -2.65     0.00%     0.00%     0:00:22    -1:59:49 Temperature        Energy    Accept   Improve     Elapsed   Remaining\n",
      "     0.01300         -2.65     0.00%     0.00%     0:03:27     0:00:00 Temperature        Energy    Accept   Improve     Elapsed   Remaining\n",
      "     0.01300         -3.15     0.00%     0.00%     0:00:29    -1:59:47 Temperature        Energy    Accept   Improve     Elapsed   Remaining\n",
      "     0.01300         -3.15     0.36%     0.19%     0:02:44     0:00:00 Temperature        Energy    Accept   Improve     Elapsed   Remaining\n",
      "     0.00670         -4.47     0.00%     0.00%     0:00:34    -1:59:41 Temperature        Energy    Accept   Improve     Elapsed   Remaining\n",
      "     0.00670         -4.47     0.00%     0.00%     0:02:51     0:00:00 Temperature        Energy    Accept   Improve     Elapsed   Remaining\n",
      "     0.01300         -2.88     0.00%     0.00%     0:00:28    -1:59:46 Temperature        Energy    Accept   Improve     Elapsed   Remaining\n",
      "     0.01300         -2.88     0.00%     0.00%     0:02:56     0:00:00"
     ]
    }
   ],
   "source": [
    "result = trial(10, 10, 100)"
   ]
  },
  {
   "cell_type": "code",
   "execution_count": 5,
   "metadata": {},
   "outputs": [],
   "source": [
    "result.to_csv(\"result.csv\")"
   ]
  },
  {
   "cell_type": "code",
   "execution_count": null,
   "metadata": {},
   "outputs": [],
   "source": []
  }
 ],
 "metadata": {
  "kernelspec": {
   "display_name": "Python 3",
   "language": "python",
   "name": "python3"
  },
  "language_info": {
   "codemirror_mode": {
    "name": "ipython",
    "version": 3
   },
   "file_extension": ".py",
   "mimetype": "text/x-python",
   "name": "python",
   "nbconvert_exporter": "python",
   "pygments_lexer": "ipython3",
   "version": "3.8.5"
  }
 },
 "nbformat": 4,
 "nbformat_minor": 4
}
