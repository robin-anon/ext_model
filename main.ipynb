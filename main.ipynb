{
 "cells": [
  {
   "cell_type": "code",
   "execution_count": 1,
   "metadata": {},
   "outputs": [],
   "source": [
    "import numpy as np\n",
    "import pandas as pd\n",
    "import scipy.stats\n",
    "import scipy.optimize\n",
    "from customlibs import core"
   ]
  },
  {
   "cell_type": "code",
   "execution_count": 2,
   "metadata": {},
   "outputs": [],
   "source": [
    "def trial(n_coef, n_init, n_ent):\n",
    "    result = []\n",
    "    for i in range(n_coef):\n",
    "        coef_array = np.random.rand(2, n_ent)\n",
    "        coef_array[1] = coef_array[1] / (n_ent/2)\n",
    "        ent_array = np.vstack((coef_array, np.zeros(n_ent)))\n",
    "        opt_util = core.calc_util(np.vstack((coef_array, core.opt_sim(ent_array))))\n",
    "        for j in range(n_init):\n",
    "            ent_array = np.vstack((coef_array, np.random.randint(2, size=n_ent)))\n",
    "            rat_util = core.calc_util(np.vstack((coef_array, core.rat_sim(ent_array))))\n",
    "            alt_util = core.calc_util(np.vstack((coef_array, core.alt_sim(ent_array))))\n",
    "            result.append([rat_util, alt_util, opt_util])\n",
    "    return pd.DataFrame(result, columns=\"rat alt opt\".split())"
   ]
  },
  {
   "cell_type": "code",
   "execution_count": 3,
   "metadata": {},
   "outputs": [
    {
     "name": "stderr",
     "output_type": "stream",
     "text": [
      " Temperature        Energy    Accept   Improve     Elapsed   Remaining\n",
      "     0.00100        -21.97     0.00%     0.00%     0:00:10    -1:59:58 Temperature        Energy    Accept   Improve     Elapsed   Remaining\n",
      "     0.00100        -21.97     0.02%     0.01%     0:03:10     0:00:00 Temperature        Energy    Accept   Improve     Elapsed   Remaining\n",
      "     0.00130        -16.25     0.00%     0.00%     0:00:11    -1:59:57 Temperature        Energy    Accept   Improve     Elapsed   Remaining\n",
      "     0.00130        -16.25     0.00%     0.00%     0:02:51     0:00:00 Temperature        Energy    Accept   Improve     Elapsed   Remaining\n",
      "     0.00200        -19.71     0.00%     0.00%     0:00:09    -1:59:58 Temperature        Energy    Accept   Improve     Elapsed   Remaining\n",
      "     0.00200        -19.71     0.02%     0.01%     0:02:54     0:00:00 Temperature        Energy    Accept   Improve     Elapsed   Remaining\n",
      "     0.00330        -18.82     0.00%     0.00%     0:00:10    -1:59:58 Temperature        Energy    Accept   Improve     Elapsed   Remaining\n",
      "     0.00330        -18.82     0.25%     0.12%     0:03:20     0:00:00 Temperature        Energy    Accept   Improve     Elapsed   Remaining\n",
      "     0.00100        -20.30     0.00%     0.00%     0:00:12    -1:59:57 Temperature        Energy    Accept   Improve     Elapsed   Remaining\n",
      "     0.00100        -20.30     0.22%     0.11%     0:03:05     0:00:00 Temperature        Energy    Accept   Improve     Elapsed   Remaining\n",
      "     0.00490        -16.24     0.00%     0.00%     0:00:12    -1:59:58 Temperature        Energy    Accept   Improve     Elapsed   Remaining\n",
      "     0.00490        -16.24     0.00%     0.00%     0:02:45     0:00:00 Temperature        Energy    Accept   Improve     Elapsed   Remaining\n",
      "     0.00220        -15.14     0.00%     0.00%     0:00:11    -1:59:58 Temperature        Energy    Accept   Improve     Elapsed   Remaining\n",
      "     0.00220        -15.14     0.14%     0.07%     0:03:08     0:00:00 Temperature        Energy    Accept   Improve     Elapsed   Remaining\n",
      "     0.00004        -16.37     0.00%     0.00%     0:00:14    -1:59:54 Temperature        Energy    Accept   Improve     Elapsed   Remaining\n",
      "     0.00004        -16.37     0.00%     0.00%     0:02:33     0:00:00 Temperature        Energy    Accept   Improve     Elapsed   Remaining\n",
      "     0.00087        -19.39     0.00%     0.00%     0:00:12    -1:59:56 Temperature        Energy    Accept   Improve     Elapsed   Remaining\n",
      "     0.00087        -19.39     0.05%     0.03%     0:03:11     0:00:00 Temperature        Energy    Accept   Improve     Elapsed   Remaining\n",
      "     0.00067        -22.63     0.00%     0.00%     0:00:12    -1:59:57 Temperature        Energy    Accept   Improve     Elapsed   Remaining\n",
      "     0.00067        -22.63     0.00%     0.00%     0:03:00     0:00:00"
     ]
    }
   ],
   "source": [
    "result = trial(10, 10, 100)"
   ]
  },
  {
   "cell_type": "code",
   "execution_count": 4,
   "metadata": {},
   "outputs": [],
   "source": [
    "result.to_csv(\"result.csv\")"
   ]
  },
  {
   "cell_type": "code",
   "execution_count": null,
   "metadata": {},
   "outputs": [],
   "source": []
  }
 ],
 "metadata": {
  "kernelspec": {
   "display_name": "Python 3",
   "language": "python",
   "name": "python3"
  },
  "language_info": {
   "codemirror_mode": {
    "name": "ipython",
    "version": 3
   },
   "file_extension": ".py",
   "mimetype": "text/x-python",
   "name": "python",
   "nbconvert_exporter": "python",
   "pygments_lexer": "ipython3",
   "version": "3.8.5"
  }
 },
 "nbformat": 4,
 "nbformat_minor": 4
}
