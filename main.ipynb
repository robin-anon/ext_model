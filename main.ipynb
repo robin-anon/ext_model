{
 "cells": [
  {
   "cell_type": "code",
   "execution_count": 1,
   "metadata": {},
   "outputs": [],
   "source": [
    "import numpy as np\n",
    "import pandas as pd\n",
    "import scipy.stats\n",
    "import scipy.optimize\n",
    "from customlibs import core"
   ]
  },
  {
   "cell_type": "code",
   "execution_count": 2,
   "metadata": {},
   "outputs": [],
   "source": [
    "ent_array = np.vstack((np.random.rand(2, 50), np.random.randint(2, size=50)))"
   ]
  },
  {
   "cell_type": "code",
   "execution_count": 3,
   "metadata": {},
   "outputs": [
    {
     "data": {
      "text/plain": [
       "array([[6.56457438e-01, 4.61287941e-01, 1.86700146e-01, 8.50428894e-01,\n",
       "        5.65021475e-01, 8.27674723e-01, 3.71310891e-01, 2.15757503e-01,\n",
       "        2.64140748e-01, 4.84931207e-01, 3.87192591e-01, 6.07880882e-01,\n",
       "        7.89244976e-01, 1.15198795e-01, 9.79464018e-02, 6.94628371e-01,\n",
       "        7.72648223e-01, 7.10547455e-01, 4.00837329e-01, 8.91928968e-01,\n",
       "        6.38793847e-01, 6.35654768e-01, 4.41374285e-02, 1.88641279e-01,\n",
       "        8.08668902e-01, 6.15667702e-02, 2.84268620e-01, 9.84760845e-01,\n",
       "        8.64530690e-01, 9.27500195e-01, 1.69090473e-01, 3.11317749e-01,\n",
       "        7.54758045e-01, 1.99619007e-01, 3.72272564e-01, 4.60571996e-01,\n",
       "        5.06020594e-01, 4.98506276e-02, 1.91061730e-01, 3.90237612e-02,\n",
       "        9.83498062e-01, 3.57839991e-01, 3.17047554e-01, 3.73378264e-01,\n",
       "        1.79946418e-01, 3.51596625e-01, 2.09493034e-01, 5.78548719e-01,\n",
       "        8.90993354e-01, 3.84453549e-01],\n",
       "       [7.06918822e-01, 9.30073104e-01, 6.04269659e-01, 1.91059036e-01,\n",
       "        9.53274179e-01, 7.55340010e-01, 7.17906938e-01, 9.13544877e-01,\n",
       "        6.31722914e-01, 8.97426169e-01, 7.72589386e-01, 2.35667268e-01,\n",
       "        2.77960855e-01, 1.67021345e-01, 8.79625764e-01, 9.67476649e-01,\n",
       "        4.66625039e-01, 8.72902552e-02, 4.79206304e-01, 9.01537021e-01,\n",
       "        9.17181748e-02, 9.45027418e-01, 8.65942243e-01, 1.91299603e-01,\n",
       "        4.59790056e-01, 6.49535926e-01, 8.97108977e-01, 1.35199730e-01,\n",
       "        9.52863600e-01, 8.79937778e-01, 1.02537490e-01, 5.61361576e-01,\n",
       "        7.19038999e-04, 1.36093744e-01, 7.45465743e-01, 3.78743542e-01,\n",
       "        4.00555772e-01, 8.56129722e-01, 1.13723760e-01, 7.59985754e-01,\n",
       "        7.38017266e-01, 8.64950741e-01, 7.53417614e-01, 1.64886735e-01,\n",
       "        6.96467994e-01, 8.30480372e-01, 7.68885178e-01, 7.36269967e-01,\n",
       "        6.44761753e-01, 3.64905742e-01],\n",
       "       [1.00000000e+00, 0.00000000e+00, 0.00000000e+00, 0.00000000e+00,\n",
       "        0.00000000e+00, 1.00000000e+00, 1.00000000e+00, 1.00000000e+00,\n",
       "        0.00000000e+00, 1.00000000e+00, 1.00000000e+00, 1.00000000e+00,\n",
       "        1.00000000e+00, 1.00000000e+00, 1.00000000e+00, 1.00000000e+00,\n",
       "        0.00000000e+00, 0.00000000e+00, 1.00000000e+00, 1.00000000e+00,\n",
       "        1.00000000e+00, 1.00000000e+00, 0.00000000e+00, 1.00000000e+00,\n",
       "        1.00000000e+00, 0.00000000e+00, 1.00000000e+00, 1.00000000e+00,\n",
       "        1.00000000e+00, 1.00000000e+00, 0.00000000e+00, 1.00000000e+00,\n",
       "        0.00000000e+00, 1.00000000e+00, 0.00000000e+00, 0.00000000e+00,\n",
       "        1.00000000e+00, 1.00000000e+00, 1.00000000e+00, 0.00000000e+00,\n",
       "        0.00000000e+00, 0.00000000e+00, 0.00000000e+00, 1.00000000e+00,\n",
       "        1.00000000e+00, 1.00000000e+00, 0.00000000e+00, 0.00000000e+00,\n",
       "        1.00000000e+00, 1.00000000e+00]])"
      ]
     },
     "execution_count": 3,
     "metadata": {},
     "output_type": "execute_result"
    }
   ],
   "source": [
    "ent_array"
   ]
  },
  {
   "cell_type": "code",
   "execution_count": 4,
   "metadata": {},
   "outputs": [
    {
     "data": {
      "text/plain": [
       "-524.5239702649812"
      ]
     },
     "execution_count": 4,
     "metadata": {},
     "output_type": "execute_result"
    }
   ],
   "source": [
    "core.calc_util(ent_array)"
   ]
  },
  {
   "cell_type": "code",
   "execution_count": 9,
   "metadata": {},
   "outputs": [
    {
     "name": "stderr",
     "output_type": "stream",
     "text": [
      " Temperature        Energy    Accept   Improve     Elapsed   Remaining\n",
      "     0.03300         -2.14     0.00%     0.00%     0:00:17    -1:59:53 Temperature        Energy    Accept   Improve     Elapsed   Remaining\n",
      "     0.03300         -2.14     0.26%     0.13%     0:02:50     0:00:00"
     ]
    }
   ],
   "source": [
    "a = core.opt_sim(ent_array)"
   ]
  },
  {
   "cell_type": "code",
   "execution_count": 10,
   "metadata": {},
   "outputs": [],
   "source": [
    "b = core.alt_sim(ent_array)"
   ]
  },
  {
   "cell_type": "code",
   "execution_count": 13,
   "metadata": {},
   "outputs": [],
   "source": [
    "c = core.rat_sim(ent_array)"
   ]
  },
  {
   "cell_type": "code",
   "execution_count": 11,
   "metadata": {},
   "outputs": [
    {
     "data": {
      "text/plain": [
       "2.144078593814641"
      ]
     },
     "execution_count": 11,
     "metadata": {},
     "output_type": "execute_result"
    }
   ],
   "source": [
    "core.calc_util(np.vstack((ent_array[0:2], a)))"
   ]
  },
  {
   "cell_type": "code",
   "execution_count": 12,
   "metadata": {},
   "outputs": [
    {
     "data": {
      "text/plain": [
       "2.0576910562064423"
      ]
     },
     "execution_count": 12,
     "metadata": {},
     "output_type": "execute_result"
    }
   ],
   "source": [
    "core.calc_util(np.vstack((ent_array[0:2], b)))"
   ]
  },
  {
   "cell_type": "code",
   "execution_count": 14,
   "metadata": {},
   "outputs": [
    {
     "data": {
      "text/plain": [
       "1.9153441432052252"
      ]
     },
     "execution_count": 14,
     "metadata": {},
     "output_type": "execute_result"
    }
   ],
   "source": [
    "core.calc_util(np.vstack((ent_array[0:2], c)))"
   ]
  },
  {
   "cell_type": "code",
   "execution_count": null,
   "metadata": {},
   "outputs": [],
   "source": []
  }
 ],
 "metadata": {
  "kernelspec": {
   "display_name": "Python 3",
   "language": "python",
   "name": "python3"
  },
  "language_info": {
   "codemirror_mode": {
    "name": "ipython",
    "version": 3
   },
   "file_extension": ".py",
   "mimetype": "text/x-python",
   "name": "python",
   "nbconvert_exporter": "python",
   "pygments_lexer": "ipython3",
   "version": "3.8.5"
  }
 },
 "nbformat": 4,
 "nbformat_minor": 4
}
