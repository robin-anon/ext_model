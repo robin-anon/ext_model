{
 "cells": [
  {
   "cell_type": "markdown",
   "metadata": {},
   "source": [
    "# Modelling the Outcomes of Rational and Altruistic Behaviour in Infectious Disease Situations"
   ]
  },
  {
   "cell_type": "markdown",
   "metadata": {},
   "source": [
    "## Introduction"
   ]
  },
  {
   "cell_type": "markdown",
   "metadata": {},
   "source": [
    "One model sometimes applied to infectious disease situations, and public health responses to such situations is that of economic externalities. By participating in activities in which there is a non-zero chance of infection, contagious individuals reap the private benefit of participating in the activity but impose an external cost on other participating individuals who are at increased risk of infection.\n",
    "\n",
    "This is unlike a traditional externality in that the external cost is avoidable, by non-participation in the common activity. There is no analogous method to avoiding air pollution for example. The infectious disease situation is also further complicated in situations where it is unknown whether an individual is contagious or not. Often the best that can be said is that all individuals have an equal likelihood of being contagious. Thus, all individuals contribute equally to the external cost imposed. Reciprocal or symmetrical externalities are a further deviation from the standard externality model.  In the situation of second-hand smoke, for example, one party imposes an external cost on the other, but the reverse is not the case.\n",
    "\n",
    "Given these differences between the traditional externality model and pandemic-like situations, it is difficult to transpose the conclusions from the former onto the latter. It would thus be fruitful to model this situation."
   ]
  },
  {
   "cell_type": "markdown",
   "metadata": {},
   "source": [
    "## Methodology"
   ]
  },
  {
   "cell_type": "markdown",
   "metadata": {},
   "source": [
    "We aim to model the outcomes of participation in non-risk-free activities during a pandemic. Such activities may include grocery shopping, attending events, or participating in sports. Individuals who participate in such activities reap the private benefit of the activity. Each individual, who has a likelihood of being infectious, imposes an external cost on other participants, by increasing their probability of contracting the disease. For the sake of simplicity, we shall model a single activity, in which a group of people either participate or abstain.\n",
    "\n",
    "Individuals in our model have two characteristics. The first characteristic, the benefit constant B, is the amount of positive utility that an individual would enjoy from participation in the activity. The second characteristic, the cost coefficient C, gives the relationship between the negative utility an individual would receive from participation in the activity and the total number of other participating individuals. The more other individuals participating in a given activity, the greater the probability of infection for a participating individual, and the greater the cost of participation.\n",
    "\n",
    "Individuals in reality have different levels of benefit from participating in an activity, and different levels of susceptibility to infectious diseases. As such, individuals in our model are assigned random values of B and C, using a uniform distribution. Individuals who do not participate do not enjoy the benefits of participation nor incur the risk of infection, and they represent a baseline level of utility.\n",
    "\n",
    "Our model seeks to determine the outcome of rational behavior in a pandemic-like situation. Given the benefit and cost conditions each individual faces, the model must determine which individuals decide to participate in the non-risk-free activity. This is non-trivial, as each individual decides whether or not to participate based on their expectation of how many others will participate. This creates a complex web of relationships for which there is no straightforward solution.\n",
    "\n",
    "We have taken an iterative approach to determine the outcome of rational behavior. We begin with a random set of participants, and allow all entities to enter or exit the set based on their benefit and cost functions until an equilibrium is reached. This vaguely corresponds to individuals deciding to visit the supermarket and changing their minds upon realizing how crowded it is, or deciding to stay at home until they hear there is no queue at the store before heading down.\n",
    "\n",
    "After initializing with a random set of participants (by deciding randomly for each entity whether to participate or not), calculations are performed for each individual.\n",
    "\n",
    "For non-participating individuals, their expected net utility from participation is calculated. This value is equal to B – C * x, where x is the current number of participants. If the value of expected net utility is positive, the individual is indicated as wishing to participate. For participating individuals, their current net utility from participation is calculated. This value is equal to B – C * (x – 1). (x – 1) is used instead of x to represent the total number of other participants, excluding the individual for which the value is being calculated. If the current net utility is negative, the individual is worse off than the non-participation baseline, and is indicated as no longer wishing to participate.\n",
    "\n",
    "Individuals wishing to participate and those wishing no longer to participate are then simultaneously moved into the appropriate categories.\n",
    "\n",
    "Calculations and movements are then repeated until an equilibrium position is reached. At this point, there are no individuals who wish to participate that are not participating, and no individuals who do not wish to participate are participating. This state represents a best guess of which individuals will participate in the non-risk-free activity while acting in a rational, self-interested manner.\n",
    "\n",
    "There was a possibility that different initial conditions would result in different equilibrium points being reached. As such, multiple initial sets of participants were used, and the results for each set were recorded.\n",
    "\n",
    "An alternative model, simulating altruistic behavior was also developed. The altruistic behavior model was identical to the rational behavior model in all ways but one. In the altruistic behavior model, individuals make decisions on participation/non-participation based on the expected effect on total net utility as opposed to individual net utility. For non-participating individuals, the expected change in total net utility is equal to B – C * x – P, where P is the sum of the cost coefficients of all currently-participating individuals. B – C * x represents the change in individual net utility, while Z represents the external cost imposed on currently-participating individuals by the addition of another individual. For participating individuals, the value calculated is B – C * (x – 1) – Q, where Q is the sum of the cost coefficients of all other currently-participating individuals. This value represents the amount of utility that would be lost if the particular individual chooses not to participate.\n",
    "\n",
    "Non-participating individuals are only indicated as wishing to participate if the expected change in total net utility is positive. Participating individuals are indicated as no longer wishing to participate if the amount of utility lost by their non-participation is negative.\n",
    "\n",
    "This altruistic model simulates the behavior of individuals who consider the costs imposed on other participants in addition to their private benefits and costs in making participation/non-participation decisions.\n",
    "\n",
    "A third kind of optimization simulation was performed. A simulated annealing algorithm was applied to estimate the theoretical optimum situation.\n",
    "\n",
    "10 batches of 10 runs of models simulating 100 individuals were performed. All 10 runs in each batch used the same set of benefit and cost coefficients, however, the initial set of participants was randomized for each run. Each of the 10 batches used a randomized set of coefficients. The levels of utility at the equilibria of the rational algorithm, altruistic algorithm, and simulated annealing algorithm were recorded."
   ]
  },
  {
   "cell_type": "markdown",
   "metadata": {},
   "source": [
    "## Results"
   ]
  },
  {
   "cell_type": "markdown",
   "metadata": {},
   "source": [
    "The following graphs show the distribution of utility for the three algorithms for each of the 10 batches of coefficients. The simulated annealing algorithm was only run once for each batch."
   ]
  },
  {
   "cell_type": "code",
   "execution_count": 1,
   "metadata": {},
   "outputs": [],
   "source": [
    "import pandas as pd\n",
    "import matplotlib.pyplot as plt\n",
    "import seaborn as sns"
   ]
  },
  {
   "cell_type": "code",
   "execution_count": 2,
   "metadata": {},
   "outputs": [],
   "source": [
    "data = pd.read_csv(\"result.csv\", index_col=0)"
   ]
  },
  {
   "cell_type": "code",
   "execution_count": 3,
   "metadata": {},
   "outputs": [],
   "source": [
    "sns.set_style(\"dark\")"
   ]
  },
  {
   "cell_type": "code",
   "execution_count": 4,
   "metadata": {
    "scrolled": true
   },
   "outputs": [
    {
     "data": {
      "text/plain": [
       "<matplotlib.legend.Legend at 0x1d708d90>"
      ]
     },
     "execution_count": 4,
     "metadata": {},
     "output_type": "execute_result"
    },
    {
     "data": {
      "image/png": "[encoded data removed]",
      "text/plain": [
       "<Figure size 432x288 with 1 Axes>"
      ]
     },
     "metadata": {},
     "output_type": "display_data"
    }
   ],
   "source": [
    "sns.distplot(data.loc[0:9, \"rat\"], kde=False, bins=20, label=\"rational\")\n",
    "sns.distplot(data.loc[0:9, \"alt\"], kde=False, bins=20, label=\"altruistic\")\n",
    "sns.distplot(data.loc[0:9, \"opt\"], kde=False, bins=20, label=\"optimal\")\n",
    "plt.legend()"
   ]
  },
  {
   "cell_type": "code",
   "execution_count": 5,
   "metadata": {
    "scrolled": true
   },
   "outputs": [
    {
     "data": {
      "text/plain": [
       "<matplotlib.legend.Legend at 0x1d7ca9e8>"
      ]
     },
     "execution_count": 5,
     "metadata": {},
     "output_type": "execute_result"
    },
    {
     "data": {
      "image/png": "[encoded data removed]",
      "text/plain": [
       "<Figure size 432x288 with 1 Axes>"
      ]
     },
     "metadata": {},
     "output_type": "display_data"
    }
   ],
   "source": [
    "sns.distplot(data.loc[10:19, \"rat\"], kde=False, bins=20, label=\"rational\")\n",
    "sns.distplot(data.loc[10:19, \"alt\"], kde=False, bins=20, label=\"altruistic\")\n",
    "sns.distplot(data.loc[10:19, \"opt\"], kde=False, bins=20, label=\"optimal\")\n",
    "plt.legend()"
   ]
  },
  {
   "cell_type": "code",
   "execution_count": 6,
   "metadata": {},
   "outputs": [
    {
     "data": {
      "text/plain": [
       "<matplotlib.legend.Legend at 0x1d862ec8>"
      ]
     },
     "execution_count": 6,
     "metadata": {},
     "output_type": "execute_result"
    },
    {
     "data": {
      "image/png": "[encoded data removed]",
      "text/plain": [
       "<Figure size 432x288 with 1 Axes>"
      ]
     },
     "metadata": {},
     "output_type": "display_data"
    }
   ],
   "source": [
    "sns.distplot(data.loc[20:29, \"rat\"], kde=False, bins=20, label=\"rational\")\n",
    "sns.distplot(data.loc[20:29, \"alt\"], kde=False, bins=20, label=\"altruistic\")\n",
    "sns.distplot(data.loc[20:29, \"opt\"], kde=False, bins=20, label=\"optimal\")\n",
    "plt.legend()"
   ]
  },
  {
   "cell_type": "code",
   "execution_count": 7,
   "metadata": {},
   "outputs": [
    {
     "data": {
      "text/plain": [
       "<matplotlib.legend.Legend at 0x1d8ede98>"
      ]
     },
     "execution_count": 7,
     "metadata": {},
     "output_type": "execute_result"
    },
    {
     "data": {
      "image/png": "[encoded data removed]",
      "text/plain": [
       "<Figure size 432x288 with 1 Axes>"
      ]
     },
     "metadata": {},
     "output_type": "display_data"
    }
   ],
   "source": [
    "sns.distplot(data.loc[30:39, \"rat\"], kde=False, bins=20, label=\"rational\")\n",
    "sns.distplot(data.loc[30:39, \"alt\"], kde=False, bins=20, label=\"altruistic\")\n",
    "sns.distplot(data.loc[30:39, \"opt\"], kde=False, bins=20, label=\"optimal\")\n",
    "plt.legend()"
   ]
  },
  {
   "cell_type": "code",
   "execution_count": 8,
   "metadata": {},
   "outputs": [
    {
     "data": {
      "text/plain": [
       "<matplotlib.legend.Legend at 0x1d989e98>"
      ]
     },
     "execution_count": 8,
     "metadata": {},
     "output_type": "execute_result"
    },
    {
     "data": {
      "image/png": "[encoded data removed]",
      "text/plain": [
       "<Figure size 432x288 with 1 Axes>"
      ]
     },
     "metadata": {},
     "output_type": "display_data"
    }
   ],
   "source": [
    "sns.distplot(data.loc[40:49, \"rat\"], kde=False, bins=20, label=\"rational\")\n",
    "sns.distplot(data.loc[40:49, \"alt\"], kde=False, bins=20, label=\"altruistic\")\n",
    "sns.distplot(data.loc[40:49, \"opt\"], kde=False, bins=20, label=\"optimal\")\n",
    "plt.legend()"
   ]
  },
  {
   "cell_type": "code",
   "execution_count": 9,
   "metadata": {},
   "outputs": [
    {
     "data": {
      "text/plain": [
       "<matplotlib.legend.Legend at 0x1d73a370>"
      ]
     },
     "execution_count": 9,
     "metadata": {},
     "output_type": "execute_result"
    },
    {
     "data": {
      "image/png": "[encoded data removed]",
      "text/plain": [
       "<Figure size 432x288 with 1 Axes>"
      ]
     },
     "metadata": {},
     "output_type": "display_data"
    }
   ],
   "source": [
    "sns.distplot(data.loc[50:59, \"rat\"], kde=False, bins=20, label=\"rational\")\n",
    "sns.distplot(data.loc[50:59, \"alt\"], kde=False, bins=20, label=\"altruistic\")\n",
    "sns.distplot(data.loc[50:59, \"opt\"], kde=False, bins=20, label=\"optimal\")\n",
    "plt.legend()"
   ]
  },
  {
   "cell_type": "code",
   "execution_count": 10,
   "metadata": {},
   "outputs": [
    {
     "data": {
      "text/plain": [
       "<matplotlib.legend.Legend at 0x1d875f70>"
      ]
     },
     "execution_count": 10,
     "metadata": {},
     "output_type": "execute_result"
    },
    {
     "data": {
      "image/png": "[encoded data removed]",
      "text/plain": [
       "<Figure size 432x288 with 1 Axes>"
      ]
     },
     "metadata": {},
     "output_type": "display_data"
    }
   ],
   "source": [
    "sns.distplot(data.loc[60:69, \"rat\"], kde=False, bins=20, label=\"rational\")\n",
    "sns.distplot(data.loc[60:69, \"alt\"], kde=False, bins=20, label=\"altruistic\")\n",
    "sns.distplot(data.loc[60:69, \"opt\"], kde=False, bins=20, label=\"optimal\")\n",
    "plt.legend()"
   ]
  },
  {
   "cell_type": "code",
   "execution_count": 11,
   "metadata": {},
   "outputs": [
    {
     "data": {
      "text/plain": [
       "<matplotlib.legend.Legend at 0x1dabc9d0>"
      ]
     },
     "execution_count": 11,
     "metadata": {},
     "output_type": "execute_result"
    },
    {
     "data": {
      "image/png": "[encoded data removed]",
      "text/plain": [
       "<Figure size 432x288 with 1 Axes>"
      ]
     },
     "metadata": {},
     "output_type": "display_data"
    }
   ],
   "source": [
    "sns.distplot(data.loc[70:79, \"rat\"], kde=False, bins=20, label=\"rational\")\n",
    "sns.distplot(data.loc[70:79, \"alt\"], kde=False, bins=20, label=\"altruistic\")\n",
    "sns.distplot(data.loc[70:79, \"opt\"], kde=False, bins=20, label=\"optimal\")\n",
    "plt.legend()"
   ]
  },
  {
   "cell_type": "code",
   "execution_count": 12,
   "metadata": {},
   "outputs": [
    {
     "data": {
      "text/plain": [
       "<matplotlib.legend.Legend at 0x1dbc4ad8>"
      ]
     },
     "execution_count": 12,
     "metadata": {},
     "output_type": "execute_result"
    },
    {
     "data": {
      "image/png": "[encoded data removed]",
      "text/plain": [
       "<Figure size 432x288 with 1 Axes>"
      ]
     },
     "metadata": {},
     "output_type": "display_data"
    }
   ],
   "source": [
    "sns.distplot(data.loc[80:89, \"rat\"], kde=False, bins=20, label=\"rational\")\n",
    "sns.distplot(data.loc[80:89, \"alt\"], kde=False, bins=20, label=\"altruistic\")\n",
    "sns.distplot(data.loc[80:89, \"opt\"], kde=False, bins=20, label=\"optimal\")\n",
    "plt.legend()"
   ]
  },
  {
   "cell_type": "code",
   "execution_count": 13,
   "metadata": {
    "scrolled": true
   },
   "outputs": [
    {
     "data": {
      "text/plain": [
       "<matplotlib.legend.Legend at 0x1dc56d60>"
      ]
     },
     "execution_count": 13,
     "metadata": {},
     "output_type": "execute_result"
    },
    {
     "data": {
      "image/png": "[encoded data removed]",
      "text/plain": [
       "<Figure size 432x288 with 1 Axes>"
      ]
     },
     "metadata": {},
     "output_type": "display_data"
    }
   ],
   "source": [
    "sns.distplot(data.loc[90:99, \"rat\"], kde=False, bins=20, label=\"rational\")\n",
    "sns.distplot(data.loc[90:99, \"alt\"], kde=False, bins=20, label=\"altruistic\")\n",
    "sns.distplot(data.loc[90:99, \"opt\"], kde=False, bins=20, label=\"optimal\")\n",
    "plt.legend()"
   ]
  },
  {
   "cell_type": "code",
   "execution_count": 14,
   "metadata": {},
   "outputs": [
    {
     "data": {
      "text/html": [
       "<div>\n",
       "<style scoped>\n",
       "    .dataframe tbody tr th:only-of-type {\n",
       "        vertical-align: middle;\n",
       "    }\n",
       "\n",
       "    .dataframe tbody tr th {\n",
       "        vertical-align: top;\n",
       "    }\n",
       "\n",
       "    .dataframe thead th {\n",
       "        text-align: right;\n",
       "    }\n",
       "</style>\n",
       "<table border=\"1\" class=\"dataframe\">\n",
       "  <thead>\n",
       "    <tr style=\"text-align: right;\">\n",
       "      <th></th>\n",
       "      <th>rat</th>\n",
       "      <th>alt</th>\n",
       "      <th>opt</th>\n",
       "    </tr>\n",
       "  </thead>\n",
       "  <tbody>\n",
       "    <tr>\n",
       "      <th>0</th>\n",
       "      <td>21.059422</td>\n",
       "      <td>21.970250</td>\n",
       "      <td>21.970250</td>\n",
       "    </tr>\n",
       "    <tr>\n",
       "      <th>1</th>\n",
       "      <td>21.216621</td>\n",
       "      <td>21.970250</td>\n",
       "      <td>21.970250</td>\n",
       "    </tr>\n",
       "    <tr>\n",
       "      <th>2</th>\n",
       "      <td>19.644124</td>\n",
       "      <td>21.970250</td>\n",
       "      <td>21.970250</td>\n",
       "    </tr>\n",
       "    <tr>\n",
       "      <th>3</th>\n",
       "      <td>20.284153</td>\n",
       "      <td>21.970250</td>\n",
       "      <td>21.970250</td>\n",
       "    </tr>\n",
       "    <tr>\n",
       "      <th>4</th>\n",
       "      <td>17.947535</td>\n",
       "      <td>21.970250</td>\n",
       "      <td>21.970250</td>\n",
       "    </tr>\n",
       "    <tr>\n",
       "      <th>5</th>\n",
       "      <td>21.216621</td>\n",
       "      <td>21.970250</td>\n",
       "      <td>21.970250</td>\n",
       "    </tr>\n",
       "    <tr>\n",
       "      <th>6</th>\n",
       "      <td>17.947535</td>\n",
       "      <td>21.970250</td>\n",
       "      <td>21.970250</td>\n",
       "    </tr>\n",
       "    <tr>\n",
       "      <th>7</th>\n",
       "      <td>21.216621</td>\n",
       "      <td>21.970250</td>\n",
       "      <td>21.970250</td>\n",
       "    </tr>\n",
       "    <tr>\n",
       "      <th>8</th>\n",
       "      <td>17.947535</td>\n",
       "      <td>21.970250</td>\n",
       "      <td>21.970250</td>\n",
       "    </tr>\n",
       "    <tr>\n",
       "      <th>9</th>\n",
       "      <td>17.947535</td>\n",
       "      <td>21.970250</td>\n",
       "      <td>21.970250</td>\n",
       "    </tr>\n",
       "    <tr>\n",
       "      <th>10</th>\n",
       "      <td>10.420956</td>\n",
       "      <td>16.242079</td>\n",
       "      <td>16.253574</td>\n",
       "    </tr>\n",
       "    <tr>\n",
       "      <th>11</th>\n",
       "      <td>10.420956</td>\n",
       "      <td>16.242079</td>\n",
       "      <td>16.253574</td>\n",
       "    </tr>\n",
       "    <tr>\n",
       "      <th>12</th>\n",
       "      <td>14.084157</td>\n",
       "      <td>16.242079</td>\n",
       "      <td>16.253574</td>\n",
       "    </tr>\n",
       "    <tr>\n",
       "      <th>13</th>\n",
       "      <td>14.353940</td>\n",
       "      <td>16.242079</td>\n",
       "      <td>16.253574</td>\n",
       "    </tr>\n",
       "    <tr>\n",
       "      <th>14</th>\n",
       "      <td>12.982717</td>\n",
       "      <td>16.242079</td>\n",
       "      <td>16.253574</td>\n",
       "    </tr>\n",
       "    <tr>\n",
       "      <th>15</th>\n",
       "      <td>14.704727</td>\n",
       "      <td>16.242079</td>\n",
       "      <td>16.253574</td>\n",
       "    </tr>\n",
       "    <tr>\n",
       "      <th>16</th>\n",
       "      <td>10.420956</td>\n",
       "      <td>16.242079</td>\n",
       "      <td>16.253574</td>\n",
       "    </tr>\n",
       "    <tr>\n",
       "      <th>17</th>\n",
       "      <td>14.353940</td>\n",
       "      <td>16.242079</td>\n",
       "      <td>16.253574</td>\n",
       "    </tr>\n",
       "    <tr>\n",
       "      <th>18</th>\n",
       "      <td>14.084157</td>\n",
       "      <td>16.242079</td>\n",
       "      <td>16.253574</td>\n",
       "    </tr>\n",
       "    <tr>\n",
       "      <th>19</th>\n",
       "      <td>14.084157</td>\n",
       "      <td>16.242079</td>\n",
       "      <td>16.253574</td>\n",
       "    </tr>\n",
       "    <tr>\n",
       "      <th>20</th>\n",
       "      <td>17.168036</td>\n",
       "      <td>19.709923</td>\n",
       "      <td>19.709923</td>\n",
       "    </tr>\n",
       "    <tr>\n",
       "      <th>21</th>\n",
       "      <td>18.361213</td>\n",
       "      <td>19.709923</td>\n",
       "      <td>19.709923</td>\n",
       "    </tr>\n",
       "    <tr>\n",
       "      <th>22</th>\n",
       "      <td>15.411676</td>\n",
       "      <td>19.709923</td>\n",
       "      <td>19.709923</td>\n",
       "    </tr>\n",
       "    <tr>\n",
       "      <th>23</th>\n",
       "      <td>18.361213</td>\n",
       "      <td>19.709923</td>\n",
       "      <td>19.709923</td>\n",
       "    </tr>\n",
       "    <tr>\n",
       "      <th>24</th>\n",
       "      <td>15.411676</td>\n",
       "      <td>19.709923</td>\n",
       "      <td>19.709923</td>\n",
       "    </tr>\n",
       "    <tr>\n",
       "      <th>25</th>\n",
       "      <td>15.411676</td>\n",
       "      <td>19.709923</td>\n",
       "      <td>19.709923</td>\n",
       "    </tr>\n",
       "    <tr>\n",
       "      <th>26</th>\n",
       "      <td>18.361213</td>\n",
       "      <td>19.709923</td>\n",
       "      <td>19.709923</td>\n",
       "    </tr>\n",
       "    <tr>\n",
       "      <th>27</th>\n",
       "      <td>17.168036</td>\n",
       "      <td>19.709923</td>\n",
       "      <td>19.709923</td>\n",
       "    </tr>\n",
       "    <tr>\n",
       "      <th>28</th>\n",
       "      <td>17.168036</td>\n",
       "      <td>19.709923</td>\n",
       "      <td>19.709923</td>\n",
       "    </tr>\n",
       "    <tr>\n",
       "      <th>29</th>\n",
       "      <td>15.411676</td>\n",
       "      <td>19.709923</td>\n",
       "      <td>19.709923</td>\n",
       "    </tr>\n",
       "    <tr>\n",
       "      <th>30</th>\n",
       "      <td>17.603565</td>\n",
       "      <td>18.821852</td>\n",
       "      <td>18.821852</td>\n",
       "    </tr>\n",
       "    <tr>\n",
       "      <th>31</th>\n",
       "      <td>14.081200</td>\n",
       "      <td>18.821852</td>\n",
       "      <td>18.821852</td>\n",
       "    </tr>\n",
       "    <tr>\n",
       "      <th>32</th>\n",
       "      <td>17.603565</td>\n",
       "      <td>18.821852</td>\n",
       "      <td>18.821852</td>\n",
       "    </tr>\n",
       "    <tr>\n",
       "      <th>33</th>\n",
       "      <td>17.603565</td>\n",
       "      <td>18.821852</td>\n",
       "      <td>18.821852</td>\n",
       "    </tr>\n",
       "    <tr>\n",
       "      <th>34</th>\n",
       "      <td>18.018277</td>\n",
       "      <td>18.821852</td>\n",
       "      <td>18.821852</td>\n",
       "    </tr>\n",
       "    <tr>\n",
       "      <th>35</th>\n",
       "      <td>17.603565</td>\n",
       "      <td>18.821852</td>\n",
       "      <td>18.821852</td>\n",
       "    </tr>\n",
       "    <tr>\n",
       "      <th>36</th>\n",
       "      <td>17.603565</td>\n",
       "      <td>18.821852</td>\n",
       "      <td>18.821852</td>\n",
       "    </tr>\n",
       "    <tr>\n",
       "      <th>37</th>\n",
       "      <td>17.603565</td>\n",
       "      <td>18.821852</td>\n",
       "      <td>18.821852</td>\n",
       "    </tr>\n",
       "    <tr>\n",
       "      <th>38</th>\n",
       "      <td>17.603565</td>\n",
       "      <td>18.821852</td>\n",
       "      <td>18.821852</td>\n",
       "    </tr>\n",
       "    <tr>\n",
       "      <th>39</th>\n",
       "      <td>17.603565</td>\n",
       "      <td>18.821852</td>\n",
       "      <td>18.821852</td>\n",
       "    </tr>\n",
       "    <tr>\n",
       "      <th>40</th>\n",
       "      <td>18.824823</td>\n",
       "      <td>20.301986</td>\n",
       "      <td>20.301986</td>\n",
       "    </tr>\n",
       "    <tr>\n",
       "      <th>41</th>\n",
       "      <td>18.824823</td>\n",
       "      <td>20.301986</td>\n",
       "      <td>20.301986</td>\n",
       "    </tr>\n",
       "    <tr>\n",
       "      <th>42</th>\n",
       "      <td>18.824823</td>\n",
       "      <td>20.301986</td>\n",
       "      <td>20.301986</td>\n",
       "    </tr>\n",
       "    <tr>\n",
       "      <th>43</th>\n",
       "      <td>18.824823</td>\n",
       "      <td>20.301986</td>\n",
       "      <td>20.301986</td>\n",
       "    </tr>\n",
       "    <tr>\n",
       "      <th>44</th>\n",
       "      <td>18.824823</td>\n",
       "      <td>20.301986</td>\n",
       "      <td>20.301986</td>\n",
       "    </tr>\n",
       "    <tr>\n",
       "      <th>45</th>\n",
       "      <td>18.824823</td>\n",
       "      <td>20.301986</td>\n",
       "      <td>20.301986</td>\n",
       "    </tr>\n",
       "    <tr>\n",
       "      <th>46</th>\n",
       "      <td>18.824823</td>\n",
       "      <td>20.301986</td>\n",
       "      <td>20.301986</td>\n",
       "    </tr>\n",
       "    <tr>\n",
       "      <th>47</th>\n",
       "      <td>18.824823</td>\n",
       "      <td>20.301986</td>\n",
       "      <td>20.301986</td>\n",
       "    </tr>\n",
       "    <tr>\n",
       "      <th>48</th>\n",
       "      <td>18.824823</td>\n",
       "      <td>20.301986</td>\n",
       "      <td>20.301986</td>\n",
       "    </tr>\n",
       "    <tr>\n",
       "      <th>49</th>\n",
       "      <td>18.824823</td>\n",
       "      <td>20.301986</td>\n",
       "      <td>20.301986</td>\n",
       "    </tr>\n",
       "    <tr>\n",
       "      <th>50</th>\n",
       "      <td>14.898966</td>\n",
       "      <td>16.236396</td>\n",
       "      <td>16.236396</td>\n",
       "    </tr>\n",
       "    <tr>\n",
       "      <th>51</th>\n",
       "      <td>15.106637</td>\n",
       "      <td>16.236396</td>\n",
       "      <td>16.236396</td>\n",
       "    </tr>\n",
       "    <tr>\n",
       "      <th>52</th>\n",
       "      <td>14.898966</td>\n",
       "      <td>16.236396</td>\n",
       "      <td>16.236396</td>\n",
       "    </tr>\n",
       "    <tr>\n",
       "      <th>53</th>\n",
       "      <td>13.309937</td>\n",
       "      <td>16.236396</td>\n",
       "      <td>16.236396</td>\n",
       "    </tr>\n",
       "    <tr>\n",
       "      <th>54</th>\n",
       "      <td>13.309937</td>\n",
       "      <td>16.236396</td>\n",
       "      <td>16.236396</td>\n",
       "    </tr>\n",
       "    <tr>\n",
       "      <th>55</th>\n",
       "      <td>13.309937</td>\n",
       "      <td>16.236396</td>\n",
       "      <td>16.236396</td>\n",
       "    </tr>\n",
       "    <tr>\n",
       "      <th>56</th>\n",
       "      <td>14.898966</td>\n",
       "      <td>16.236396</td>\n",
       "      <td>16.236396</td>\n",
       "    </tr>\n",
       "    <tr>\n",
       "      <th>57</th>\n",
       "      <td>14.898966</td>\n",
       "      <td>16.236396</td>\n",
       "      <td>16.236396</td>\n",
       "    </tr>\n",
       "    <tr>\n",
       "      <th>58</th>\n",
       "      <td>13.309937</td>\n",
       "      <td>16.236396</td>\n",
       "      <td>16.236396</td>\n",
       "    </tr>\n",
       "    <tr>\n",
       "      <th>59</th>\n",
       "      <td>13.309937</td>\n",
       "      <td>16.236396</td>\n",
       "      <td>16.236396</td>\n",
       "    </tr>\n",
       "    <tr>\n",
       "      <th>60</th>\n",
       "      <td>12.586599</td>\n",
       "      <td>15.137426</td>\n",
       "      <td>15.137426</td>\n",
       "    </tr>\n",
       "    <tr>\n",
       "      <th>61</th>\n",
       "      <td>12.586599</td>\n",
       "      <td>15.137426</td>\n",
       "      <td>15.137426</td>\n",
       "    </tr>\n",
       "    <tr>\n",
       "      <th>62</th>\n",
       "      <td>12.586599</td>\n",
       "      <td>15.137426</td>\n",
       "      <td>15.137426</td>\n",
       "    </tr>\n",
       "    <tr>\n",
       "      <th>63</th>\n",
       "      <td>12.586599</td>\n",
       "      <td>15.137426</td>\n",
       "      <td>15.137426</td>\n",
       "    </tr>\n",
       "    <tr>\n",
       "      <th>64</th>\n",
       "      <td>12.586599</td>\n",
       "      <td>15.137426</td>\n",
       "      <td>15.137426</td>\n",
       "    </tr>\n",
       "    <tr>\n",
       "      <th>65</th>\n",
       "      <td>12.586599</td>\n",
       "      <td>15.137426</td>\n",
       "      <td>15.137426</td>\n",
       "    </tr>\n",
       "    <tr>\n",
       "      <th>66</th>\n",
       "      <td>12.586599</td>\n",
       "      <td>15.137426</td>\n",
       "      <td>15.137426</td>\n",
       "    </tr>\n",
       "    <tr>\n",
       "      <th>67</th>\n",
       "      <td>12.586599</td>\n",
       "      <td>15.137426</td>\n",
       "      <td>15.137426</td>\n",
       "    </tr>\n",
       "    <tr>\n",
       "      <th>68</th>\n",
       "      <td>12.586599</td>\n",
       "      <td>15.137426</td>\n",
       "      <td>15.137426</td>\n",
       "    </tr>\n",
       "    <tr>\n",
       "      <th>69</th>\n",
       "      <td>12.586599</td>\n",
       "      <td>15.137426</td>\n",
       "      <td>15.137426</td>\n",
       "    </tr>\n",
       "    <tr>\n",
       "      <th>70</th>\n",
       "      <td>12.666845</td>\n",
       "      <td>16.374013</td>\n",
       "      <td>16.374013</td>\n",
       "    </tr>\n",
       "    <tr>\n",
       "      <th>71</th>\n",
       "      <td>12.666845</td>\n",
       "      <td>16.374013</td>\n",
       "      <td>16.374013</td>\n",
       "    </tr>\n",
       "    <tr>\n",
       "      <th>72</th>\n",
       "      <td>15.065830</td>\n",
       "      <td>16.374013</td>\n",
       "      <td>16.374013</td>\n",
       "    </tr>\n",
       "    <tr>\n",
       "      <th>73</th>\n",
       "      <td>12.221695</td>\n",
       "      <td>16.374013</td>\n",
       "      <td>16.374013</td>\n",
       "    </tr>\n",
       "    <tr>\n",
       "      <th>74</th>\n",
       "      <td>11.690112</td>\n",
       "      <td>16.374013</td>\n",
       "      <td>16.374013</td>\n",
       "    </tr>\n",
       "    <tr>\n",
       "      <th>75</th>\n",
       "      <td>12.666845</td>\n",
       "      <td>16.374013</td>\n",
       "      <td>16.374013</td>\n",
       "    </tr>\n",
       "    <tr>\n",
       "      <th>76</th>\n",
       "      <td>15.257737</td>\n",
       "      <td>16.374013</td>\n",
       "      <td>16.374013</td>\n",
       "    </tr>\n",
       "    <tr>\n",
       "      <th>77</th>\n",
       "      <td>12.666845</td>\n",
       "      <td>16.374013</td>\n",
       "      <td>16.374013</td>\n",
       "    </tr>\n",
       "    <tr>\n",
       "      <th>78</th>\n",
       "      <td>12.666845</td>\n",
       "      <td>16.374013</td>\n",
       "      <td>16.374013</td>\n",
       "    </tr>\n",
       "    <tr>\n",
       "      <th>79</th>\n",
       "      <td>11.690112</td>\n",
       "      <td>16.374013</td>\n",
       "      <td>16.374013</td>\n",
       "    </tr>\n",
       "    <tr>\n",
       "      <th>80</th>\n",
       "      <td>17.665523</td>\n",
       "      <td>19.393046</td>\n",
       "      <td>19.393046</td>\n",
       "    </tr>\n",
       "    <tr>\n",
       "      <th>81</th>\n",
       "      <td>17.665523</td>\n",
       "      <td>19.393046</td>\n",
       "      <td>19.393046</td>\n",
       "    </tr>\n",
       "    <tr>\n",
       "      <th>82</th>\n",
       "      <td>17.665523</td>\n",
       "      <td>19.393046</td>\n",
       "      <td>19.393046</td>\n",
       "    </tr>\n",
       "    <tr>\n",
       "      <th>83</th>\n",
       "      <td>17.665523</td>\n",
       "      <td>19.393046</td>\n",
       "      <td>19.393046</td>\n",
       "    </tr>\n",
       "    <tr>\n",
       "      <th>84</th>\n",
       "      <td>17.665523</td>\n",
       "      <td>19.393046</td>\n",
       "      <td>19.393046</td>\n",
       "    </tr>\n",
       "    <tr>\n",
       "      <th>85</th>\n",
       "      <td>17.665523</td>\n",
       "      <td>19.393046</td>\n",
       "      <td>19.393046</td>\n",
       "    </tr>\n",
       "    <tr>\n",
       "      <th>86</th>\n",
       "      <td>17.665523</td>\n",
       "      <td>19.393046</td>\n",
       "      <td>19.393046</td>\n",
       "    </tr>\n",
       "    <tr>\n",
       "      <th>87</th>\n",
       "      <td>17.665523</td>\n",
       "      <td>19.393046</td>\n",
       "      <td>19.393046</td>\n",
       "    </tr>\n",
       "    <tr>\n",
       "      <th>88</th>\n",
       "      <td>17.665523</td>\n",
       "      <td>19.393046</td>\n",
       "      <td>19.393046</td>\n",
       "    </tr>\n",
       "    <tr>\n",
       "      <th>89</th>\n",
       "      <td>17.665523</td>\n",
       "      <td>19.393046</td>\n",
       "      <td>19.393046</td>\n",
       "    </tr>\n",
       "    <tr>\n",
       "      <th>90</th>\n",
       "      <td>21.820804</td>\n",
       "      <td>22.617396</td>\n",
       "      <td>22.631225</td>\n",
       "    </tr>\n",
       "    <tr>\n",
       "      <th>91</th>\n",
       "      <td>21.820804</td>\n",
       "      <td>22.617396</td>\n",
       "      <td>22.631225</td>\n",
       "    </tr>\n",
       "    <tr>\n",
       "      <th>92</th>\n",
       "      <td>21.820804</td>\n",
       "      <td>22.617396</td>\n",
       "      <td>22.631225</td>\n",
       "    </tr>\n",
       "    <tr>\n",
       "      <th>93</th>\n",
       "      <td>20.096733</td>\n",
       "      <td>22.617396</td>\n",
       "      <td>22.631225</td>\n",
       "    </tr>\n",
       "    <tr>\n",
       "      <th>94</th>\n",
       "      <td>21.820804</td>\n",
       "      <td>22.617396</td>\n",
       "      <td>22.631225</td>\n",
       "    </tr>\n",
       "    <tr>\n",
       "      <th>95</th>\n",
       "      <td>20.096733</td>\n",
       "      <td>22.617396</td>\n",
       "      <td>22.631225</td>\n",
       "    </tr>\n",
       "    <tr>\n",
       "      <th>96</th>\n",
       "      <td>21.820804</td>\n",
       "      <td>22.617396</td>\n",
       "      <td>22.631225</td>\n",
       "    </tr>\n",
       "    <tr>\n",
       "      <th>97</th>\n",
       "      <td>21.820804</td>\n",
       "      <td>22.617396</td>\n",
       "      <td>22.631225</td>\n",
       "    </tr>\n",
       "    <tr>\n",
       "      <th>98</th>\n",
       "      <td>21.608617</td>\n",
       "      <td>22.617396</td>\n",
       "      <td>22.631225</td>\n",
       "    </tr>\n",
       "    <tr>\n",
       "      <th>99</th>\n",
       "      <td>21.820804</td>\n",
       "      <td>22.617396</td>\n",
       "      <td>22.631225</td>\n",
       "    </tr>\n",
       "  </tbody>\n",
       "</table>\n",
       "</div>"
      ],
      "text/plain": [
       "          rat        alt        opt\n",
       "0   21.059422  21.970250  21.970250\n",
       "1   21.216621  21.970250  21.970250\n",
       "2   19.644124  21.970250  21.970250\n",
       "3   20.284153  21.970250  21.970250\n",
       "4   17.947535  21.970250  21.970250\n",
       "5   21.216621  21.970250  21.970250\n",
       "6   17.947535  21.970250  21.970250\n",
       "7   21.216621  21.970250  21.970250\n",
       "8   17.947535  21.970250  21.970250\n",
       "9   17.947535  21.970250  21.970250\n",
       "10  10.420956  16.242079  16.253574\n",
       "11  10.420956  16.242079  16.253574\n",
       "12  14.084157  16.242079  16.253574\n",
       "13  14.353940  16.242079  16.253574\n",
       "14  12.982717  16.242079  16.253574\n",
       "15  14.704727  16.242079  16.253574\n",
       "16  10.420956  16.242079  16.253574\n",
       "17  14.353940  16.242079  16.253574\n",
       "18  14.084157  16.242079  16.253574\n",
       "19  14.084157  16.242079  16.253574\n",
       "20  17.168036  19.709923  19.709923\n",
       "21  18.361213  19.709923  19.709923\n",
       "22  15.411676  19.709923  19.709923\n",
       "23  18.361213  19.709923  19.709923\n",
       "24  15.411676  19.709923  19.709923\n",
       "25  15.411676  19.709923  19.709923\n",
       "26  18.361213  19.709923  19.709923\n",
       "27  17.168036  19.709923  19.709923\n",
       "28  17.168036  19.709923  19.709923\n",
       "29  15.411676  19.709923  19.709923\n",
       "30  17.603565  18.821852  18.821852\n",
       "31  14.081200  18.821852  18.821852\n",
       "32  17.603565  18.821852  18.821852\n",
       "33  17.603565  18.821852  18.821852\n",
       "34  18.018277  18.821852  18.821852\n",
       "35  17.603565  18.821852  18.821852\n",
       "36  17.603565  18.821852  18.821852\n",
       "37  17.603565  18.821852  18.821852\n",
       "38  17.603565  18.821852  18.821852\n",
       "39  17.603565  18.821852  18.821852\n",
       "40  18.824823  20.301986  20.301986\n",
       "41  18.824823  20.301986  20.301986\n",
       "42  18.824823  20.301986  20.301986\n",
       "43  18.824823  20.301986  20.301986\n",
       "44  18.824823  20.301986  20.301986\n",
       "45  18.824823  20.301986  20.301986\n",
       "46  18.824823  20.301986  20.301986\n",
       "47  18.824823  20.301986  20.301986\n",
       "48  18.824823  20.301986  20.301986\n",
       "49  18.824823  20.301986  20.301986\n",
       "50  14.898966  16.236396  16.236396\n",
       "51  15.106637  16.236396  16.236396\n",
       "52  14.898966  16.236396  16.236396\n",
       "53  13.309937  16.236396  16.236396\n",
       "54  13.309937  16.236396  16.236396\n",
       "55  13.309937  16.236396  16.236396\n",
       "56  14.898966  16.236396  16.236396\n",
       "57  14.898966  16.236396  16.236396\n",
       "58  13.309937  16.236396  16.236396\n",
       "59  13.309937  16.236396  16.236396\n",
       "60  12.586599  15.137426  15.137426\n",
       "61  12.586599  15.137426  15.137426\n",
       "62  12.586599  15.137426  15.137426\n",
       "63  12.586599  15.137426  15.137426\n",
       "64  12.586599  15.137426  15.137426\n",
       "65  12.586599  15.137426  15.137426\n",
       "66  12.586599  15.137426  15.137426\n",
       "67  12.586599  15.137426  15.137426\n",
       "68  12.586599  15.137426  15.137426\n",
       "69  12.586599  15.137426  15.137426\n",
       "70  12.666845  16.374013  16.374013\n",
       "71  12.666845  16.374013  16.374013\n",
       "72  15.065830  16.374013  16.374013\n",
       "73  12.221695  16.374013  16.374013\n",
       "74  11.690112  16.374013  16.374013\n",
       "75  12.666845  16.374013  16.374013\n",
       "76  15.257737  16.374013  16.374013\n",
       "77  12.666845  16.374013  16.374013\n",
       "78  12.666845  16.374013  16.374013\n",
       "79  11.690112  16.374013  16.374013\n",
       "80  17.665523  19.393046  19.393046\n",
       "81  17.665523  19.393046  19.393046\n",
       "82  17.665523  19.393046  19.393046\n",
       "83  17.665523  19.393046  19.393046\n",
       "84  17.665523  19.393046  19.393046\n",
       "85  17.665523  19.393046  19.393046\n",
       "86  17.665523  19.393046  19.393046\n",
       "87  17.665523  19.393046  19.393046\n",
       "88  17.665523  19.393046  19.393046\n",
       "89  17.665523  19.393046  19.393046\n",
       "90  21.820804  22.617396  22.631225\n",
       "91  21.820804  22.617396  22.631225\n",
       "92  21.820804  22.617396  22.631225\n",
       "93  20.096733  22.617396  22.631225\n",
       "94  21.820804  22.617396  22.631225\n",
       "95  20.096733  22.617396  22.631225\n",
       "96  21.820804  22.617396  22.631225\n",
       "97  21.820804  22.617396  22.631225\n",
       "98  21.608617  22.617396  22.631225\n",
       "99  21.820804  22.617396  22.631225"
      ]
     },
     "execution_count": 14,
     "metadata": {},
     "output_type": "execute_result"
    }
   ],
   "source": [
    "pd.set_option('display.max_row', None)\n",
    "data"
   ]
  },
  {
   "cell_type": "markdown",
   "metadata": {},
   "source": [
    "## Discussion"
   ]
  },
  {
   "cell_type": "markdown",
   "metadata": {},
   "source": [
    "A few preliminary observations can be made from the results above.\n",
    "\n",
    "First, altruistic behavior consistently arrives at the same equilibrium point while rational behavior does not.\n",
    "\n",
    "Second, altruistic behavior consistently arrives at an equilibrium point with utility very close or exactly equal to the theoretical optimum.\n",
    "\n",
    "Third, rational behavior almost never arrives at an equilibrium point with utility equal to the theoretical optimum.\n",
    "\n",
    "The results of our model would suggest that rational behavior is not an optimal approach to pandemic-like situations. Rational behavior does not result in an ideal, utility-maximizing outcome.\n",
    "\n",
    "One argument in favor of allowing unconstrained rational behavior has been that individuals who choose to participate in a non-risk-free activity, insofar as they are fully aware of the risks involved, have decided to do so voluntarily, and have thus made the utility-maximizing decision for themselves. If all participating individuals are making individually utility-maximizing decisions, it might follow that collective utility would likewise be maximized. The results above demonstrate that this is not the case. While each individual is making the utility-maximizing decision, all individuals are also faced with worse decisions as a result of systematic over-participation. They make the best choice out of two options which would otherwise have been more appealing if there were fewer participants.\n",
    "\n",
    "In contrast, altruistic behavior seems to be a near-perfect approach to the pandemic-like situation. While the dynamics in such a situation are very complex, having each individual act in an altruistic manner consistently results in near-perfect, or perfect outcomes.\n",
    "\n",
    "There is no perfect translation for the results of this hypothetical model to practical situations. Nonetheless, there are a few points that can be made.\n",
    "\n",
    "It can perhaps be assumed (and possibly confirmed by game-theoretical modeling) that a greater amount or a greater degree of altruistic behavior would result in more ideal outcomes in a pandemic-like situation. It might thus make sense to consider policy with this objective.\n",
    "\n",
    "The model we developed did not simulate lockdowns, mask mandates, travel restrictions, or other commonly applied policy tools in response to the COVID-19 pandemic. The efficacy of those policies is perhaps better dealt with using empirical rather than theoretical means. It can, however, be noted that rational behavior typically arrived at equilibriums with total net utility around 80% that of the estimated maximum. This might be considered by some to be an acceptable result.\n",
    "\n",
    "In a pandemic-like situation, externalities are even more complicated than how they are modeled here. The externality imposed by a single participant extends not only to other participants in the same activity, but also to others at further degrees of separation. These costs would be extremely difficult to model. We have neglected these costs, and it would be reasonable to assume that our model thus understates the magnitude of the externality imposed, and hence the net utility loss of rational as opposed to altruistic behavior. Also, in a pandemic situation, the priority tends to be on preventing exponential spread as opposed to maximizing utility in a single instance.\n",
    "\n",
    "The model used here may be more analogous to the situation of traffic congestion, in which externalities are more bounded to a particular group (commuters in the same area or stretch of road). In such a situation, external costs are imposed symmetrically, by each driver onto every other, and the external costs can be avoided by foregoing the private benefit (by taking the train instead).\n",
    "\n",
    "The crucial takeaway from the modeling conducted here is that altruistic behavior is capable of achieving optimal or very-near-optimal results even in extremely complex economic situations. Whereas blunt, technical instruments like taxation and quotas do not consistently maximize utility. While members of society have typically been treated by policymakers as rational economic agents, we might consider encouraging them to be altruistic moral agents instead."
   ]
  }
 ],
 "metadata": {
  "kernelspec": {
   "display_name": "Python 3",
   "language": "python",
   "name": "python3"
  },
  "language_info": {
   "codemirror_mode": {
    "name": "ipython",
    "version": 3
   },
   "file_extension": ".py",
   "mimetype": "text/x-python",
   "name": "python",
   "nbconvert_exporter": "python",
   "pygments_lexer": "ipython3",
   "version": "3.8.5"
  }
 },
 "nbformat": 4,
 "nbformat_minor": 4
}
